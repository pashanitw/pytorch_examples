{
 "cells": [
  {
   "cell_type": "code",
   "execution_count": 1,
   "id": "initial_id",
   "metadata": {
    "collapsed": true,
    "ExecuteTime": {
     "end_time": "2023-09-18T14:08:37.515680386Z",
     "start_time": "2023-09-18T14:08:37.086862092Z"
    }
   },
   "outputs": [],
   "source": [
    "import torch\n",
    "import torch.nn as nn\n",
    "import torch.nn.functional as F\n"
   ]
  },
  {
   "cell_type": "code",
   "execution_count": 2,
   "outputs": [],
   "source": [
    "class SimpleLinearModel(nn.Module):\n",
    "    def __init__(self):\n",
    "        super(SimpleLinearModel, self).__init__()\n",
    "        self.fc1 = nn.Linear(in_features=10, out_features=20, bias=False)\n",
    "        self.fc2 = nn.Linear(in_features=20, out_features=15, bias=False)\n",
    "        self.fc3 = nn.Linear(in_features=15, out_features=1, bias=False)\n",
    "\n",
    "    def forward(self, x):\n",
    "        x = self.fc1(x)\n",
    "        x = F.relu(x)\n",
    "        x = self.fc2(x)\n",
    "        F.relu(x)\n",
    "        x = self.fc3(x)\n",
    "        return x"
   ],
   "metadata": {
    "collapsed": false,
    "ExecuteTime": {
     "end_time": "2023-09-18T14:08:37.518416877Z",
     "start_time": "2023-09-18T14:08:37.516884779Z"
    }
   },
   "id": "bcf08f3be457d94b"
  },
  {
   "cell_type": "code",
   "execution_count": 3,
   "outputs": [],
   "source": [
    "model = SimpleLinearModel()"
   ],
   "metadata": {
    "collapsed": false,
    "ExecuteTime": {
     "end_time": "2023-09-18T14:08:38.755440577Z",
     "start_time": "2023-09-18T14:08:38.752822004Z"
    }
   },
   "id": "15833e73506a38a4"
  },
  {
   "cell_type": "code",
   "execution_count": 3,
   "outputs": [],
   "source": [],
   "metadata": {
    "collapsed": false,
    "ExecuteTime": {
     "end_time": "2023-09-18T14:08:45.451429974Z",
     "start_time": "2023-09-18T14:08:45.437602677Z"
    }
   },
   "id": "21c6c87e60bc2fd6"
  },
  {
   "cell_type": "code",
   "execution_count": 4,
   "outputs": [
    {
     "data": {
      "text/plain": "515"
     },
     "execution_count": 4,
     "metadata": {},
     "output_type": "execute_result"
    }
   ],
   "source": [
    "num_params = sum(p.numel() for p in model.parameters())\n",
    "num_params"
   ],
   "metadata": {
    "collapsed": false,
    "ExecuteTime": {
     "end_time": "2023-09-18T14:08:46.306681985Z",
     "start_time": "2023-09-18T14:08:46.302407085Z"
    }
   },
   "id": "972ad0bb55035856"
  },
  {
   "cell_type": "code",
   "execution_count": 5,
   "outputs": [
    {
     "name": "stdout",
     "output_type": "stream",
     "text": [
      "==== memory before moving model to gpu == 0\n"
     ]
    }
   ],
   "source": [
    "memory_before_moving  = torch.cuda.memory_allocated()\n",
    "print(\"==== memory before moving model to gpu ==\", memory_before_moving)"
   ],
   "metadata": {
    "collapsed": false,
    "ExecuteTime": {
     "end_time": "2023-09-18T14:08:47.512982828Z",
     "start_time": "2023-09-18T14:08:47.496373321Z"
    }
   },
   "id": "7c8a2af8cd3cbd8f"
  },
  {
   "cell_type": "code",
   "execution_count": 6,
   "outputs": [
    {
     "name": "stdout",
     "output_type": "stream",
     "text": [
      "==== memory before forward pass == 3072\n"
     ]
    }
   ],
   "source": [
    "model.cuda()\n",
    "memory_before_forward = torch.cuda.memory_allocated() - memory_before_moving\n",
    "print(\"==== memory before forward pass ==\", memory_before_forward)"
   ],
   "metadata": {
    "collapsed": false,
    "ExecuteTime": {
     "end_time": "2023-09-18T14:08:59.004763767Z",
     "start_time": "2023-09-18T14:08:58.540445958Z"
    }
   },
   "id": "41ec3a462eb42a03"
  },
  {
   "cell_type": "code",
   "execution_count": 7,
   "outputs": [
    {
     "name": "stdout",
     "output_type": "stream",
     "text": [
      "3072\n"
     ]
    }
   ],
   "source": [
    "print(torch.cuda.memory_allocated())"
   ],
   "metadata": {
    "collapsed": false,
    "ExecuteTime": {
     "end_time": "2023-09-18T14:09:14.231086180Z",
     "start_time": "2023-09-18T14:09:14.184757020Z"
    }
   },
   "id": "51db24125bb5a608"
  },
  {
   "cell_type": "code",
   "execution_count": 8,
   "outputs": [
    {
     "name": "stdout",
     "output_type": "stream",
     "text": [
      "Total parameter memory: 2060 bytes\n"
     ]
    }
   ],
   "source": [
    "param_memory = sum(p.nelement() * p.element_size() for p in model.parameters())\n",
    "print(f'Total parameter memory: {param_memory} bytes')"
   ],
   "metadata": {
    "collapsed": false,
    "ExecuteTime": {
     "end_time": "2023-09-18T14:09:37.179038344Z",
     "start_time": "2023-09-18T14:09:37.137715098Z"
    }
   },
   "id": "74748a8efc34ced9"
  },
  {
   "cell_type": "code",
   "execution_count": 9,
   "outputs": [
    {
     "name": "stdout",
     "output_type": "stream",
     "text": [
      "3584\n"
     ]
    }
   ],
   "source": [
    "input = torch.randn(1, 10).cuda()\n",
    "print(torch.cuda.memory_allocated())"
   ],
   "metadata": {
    "collapsed": false,
    "ExecuteTime": {
     "end_time": "2023-09-18T14:09:53.909614651Z",
     "start_time": "2023-09-18T14:09:53.893775160Z"
    }
   },
   "id": "4b1afa139bd37bb3"
  },
  {
   "cell_type": "code",
   "execution_count": 123,
   "outputs": [
    {
     "name": "stdout",
     "output_type": "stream",
     "text": [
      "Memory used during forward pass: 2048 bytes\n"
     ]
    }
   ],
   "source": [
    "output = model(input)\n",
    "memory_after = torch.cuda.memory_allocated()\n",
    "memory_usage = memory_after - memory_before_forward\n",
    "print(f'Memory used during forward pass: {memory_usage} bytes')"
   ],
   "metadata": {
    "collapsed": false,
    "ExecuteTime": {
     "end_time": "2023-09-18T14:08:05.034895712Z",
     "start_time": "2023-09-18T14:08:05.032176480Z"
    }
   },
   "id": "fc581973476d9317"
  },
  {
   "cell_type": "code",
   "execution_count": 124,
   "outputs": [
    {
     "name": "stdout",
     "output_type": "stream",
     "text": [
      "5120\n",
      "3072 3072\n"
     ]
    }
   ],
   "source": [
    "print(torch.cuda.memory_allocated())\n",
    "print(memory_before_forward, memory_before_forward)"
   ],
   "metadata": {
    "collapsed": false,
    "ExecuteTime": {
     "end_time": "2023-09-18T14:08:05.233670989Z",
     "start_time": "2023-09-18T14:08:05.230094049Z"
    }
   },
   "id": "2c027e0eb01b8a5c"
  },
  {
   "cell_type": "code",
   "execution_count": 127,
   "outputs": [
    {
     "ename": "NameError",
     "evalue": "name 'model' is not defined",
     "output_type": "error",
     "traceback": [
      "\u001B[0;31m---------------------------------------------------------------------------\u001B[0m",
      "\u001B[0;31mNameError\u001B[0m                                 Traceback (most recent call last)",
      "Cell \u001B[0;32mIn[127], line 2\u001B[0m\n\u001B[1;32m      1\u001B[0m torch\u001B[38;5;241m.\u001B[39mcuda\u001B[38;5;241m.\u001B[39mempty_cache()\n\u001B[0;32m----> 2\u001B[0m \u001B[38;5;28;01mdel\u001B[39;00m model\n\u001B[1;32m      3\u001B[0m \u001B[38;5;28;01mimport\u001B[39;00m \u001B[38;5;21;01mgc\u001B[39;00m\n\u001B[1;32m      4\u001B[0m gc\u001B[38;5;241m.\u001B[39mcollect()\n",
      "\u001B[0;31mNameError\u001B[0m: name 'model' is not defined"
     ]
    }
   ],
   "source": [
    "torch.cuda.empty_cache()\n",
    "del model\n",
    "import gc\n",
    "gc.collect()"
   ],
   "metadata": {
    "collapsed": false,
    "ExecuteTime": {
     "end_time": "2023-09-18T14:08:16.655011399Z",
     "start_time": "2023-09-18T14:08:16.647334404Z"
    }
   },
   "id": "a5a6a990af198156"
  },
  {
   "cell_type": "code",
   "execution_count": 128,
   "outputs": [
    {
     "name": "stdout",
     "output_type": "stream",
     "text": [
      "5120\n"
     ]
    }
   ],
   "source": [
    "print(torch.cuda.memory_allocated())"
   ],
   "metadata": {
    "collapsed": false,
    "ExecuteTime": {
     "end_time": "2023-09-18T14:08:17.361178041Z",
     "start_time": "2023-09-18T14:08:17.358410999Z"
    }
   },
   "id": "f2bdbfe888d0b980"
  },
  {
   "cell_type": "code",
   "execution_count": 10,
   "outputs": [
    {
     "name": "stdout",
     "output_type": "stream",
     "text": [
      "Memory after fc1: 4096\n",
      "Memory after relu1: 4096\n",
      "Memory after fc2: 4608\n",
      "Memory after relu2: 4608\n",
      "Memory after fc3: 5120\n"
     ]
    }
   ],
   "source": [
    "output = model.fc1(input)\n",
    "print('Memory after fc1:', torch.cuda.memory_allocated())\n",
    "\n",
    "output = F.relu(output)\n",
    "print('Memory after relu1:', torch.cuda.memory_allocated())\n",
    "\n",
    "output = model.fc2(output)\n",
    "print('Memory after fc2:', torch.cuda.memory_allocated())\n",
    "\n",
    "output = F.relu(output)\n",
    "print('Memory after relu2:', torch.cuda.memory_allocated())\n",
    "\n",
    "output = model.fc3(output)\n",
    "print('Memory after fc3:', torch.cuda.memory_allocated())\n"
   ],
   "metadata": {
    "collapsed": false,
    "ExecuteTime": {
     "end_time": "2023-09-18T14:10:58.218276803Z",
     "start_time": "2023-09-18T14:10:57.998495059Z"
    }
   },
   "id": "300191bc948110b0"
  },
  {
   "cell_type": "code",
   "execution_count": null,
   "outputs": [],
   "source": [],
   "metadata": {
    "collapsed": false
   },
   "id": "8b8c85418fe81256"
  }
 ],
 "metadata": {
  "kernelspec": {
   "display_name": "Python 3",
   "language": "python",
   "name": "python3"
  },
  "language_info": {
   "codemirror_mode": {
    "name": "ipython",
    "version": 2
   },
   "file_extension": ".py",
   "mimetype": "text/x-python",
   "name": "python",
   "nbconvert_exporter": "python",
   "pygments_lexer": "ipython2",
   "version": "2.7.6"
  }
 },
 "nbformat": 4,
 "nbformat_minor": 5
}
