{
 "cells": [
  {
   "cell_type": "code",
   "execution_count": 1,
   "outputs": [],
   "source": [
    "import torch\n",
    "import torch.nn as nn\n",
    "import torch.nn.functional as F\n"
   ],
   "metadata": {
    "collapsed": false,
    "ExecuteTime": {
     "end_time": "2023-09-18T14:31:47.107673768Z",
     "start_time": "2023-09-18T14:31:46.670894668Z"
    }
   },
   "id": "8b1b05f06397bbf6"
  },
  {
   "cell_type": "code",
   "execution_count": 2,
   "outputs": [],
   "source": [
    "class SimpleLinearModel(nn.Module):\n",
    "    def __init__(self):\n",
    "        super(SimpleLinearModel, self).__init__()\n",
    "        self.fc1 = nn.Linear(in_features=10, out_features=150, bias=False)\n",
    "        # self.fc2 = nn.Linear(in_features=20, out_features=15, bias=False)\n",
    "        # self.fc3 = nn.Linear(in_features=15, out_features=1, bias=False)\n",
    "\n",
    "    def forward(self, x):\n",
    "        x = self.fc1(x)\n",
    "        # x = F.relu(x)\n",
    "        x = self.fc2(x)\n",
    "        # F.relu(x)\n",
    "        x = self.fc3(x)\n",
    "        return x"
   ],
   "metadata": {
    "collapsed": false,
    "ExecuteTime": {
     "end_time": "2023-09-18T14:31:47.111341854Z",
     "start_time": "2023-09-18T14:31:47.108965305Z"
    }
   },
   "id": "e98e81739a2b38c3"
  },
  {
   "cell_type": "code",
   "execution_count": 3,
   "outputs": [
    {
     "data": {
      "text/plain": "<torch.autograd.grad_mode.set_grad_enabled at 0x7f16b77b7f40>"
     },
     "execution_count": 3,
     "metadata": {},
     "output_type": "execute_result"
    }
   ],
   "source": [
    "torch.set_grad_enabled(False)"
   ],
   "metadata": {
    "collapsed": false,
    "ExecuteTime": {
     "end_time": "2023-09-18T14:31:47.127432504Z",
     "start_time": "2023-09-18T14:31:47.110497318Z"
    }
   },
   "id": "113261470ab4b753"
  },
  {
   "cell_type": "code",
   "execution_count": 4,
   "outputs": [
    {
     "name": "stdout",
     "output_type": "stream",
     "text": [
      "Memory after model allocation: 6144\n",
      "Memory after input allocation: 6656\n",
      "Memory after fc1: 7680\n",
      "Memory after relu1: 7680\n"
     ]
    }
   ],
   "source": [
    "model = SimpleLinearModel().cuda()\n",
    "print('Memory after model allocation:', torch.cuda.memory_allocated())\n",
    "input = torch.randn(1, 10).cuda()\n",
    "print('Memory after input allocation:', torch.cuda.memory_allocated())\n",
    "\n",
    "output = model.fc1(input)\n",
    "print('Memory after fc1:', torch.cuda.memory_allocated())\n",
    "\n",
    "output = F.relu(output)\n",
    "print('Memory after relu1:', torch.cuda.memory_allocated())\n",
    "# \n",
    "# output = model.fc2(output)\n",
    "# print('Memory after fc2:', torch.cuda.memory_allocated())\n",
    "# \n",
    "# output = F.relu(output)\n",
    "# print('Memory after relu2:', torch.cuda.memory_allocated())\n",
    "# \n",
    "# output = model.fc3(output)\n",
    "# print('Memory after fc3:', torch.cuda.memory_allocated())\n"
   ],
   "metadata": {
    "collapsed": false,
    "ExecuteTime": {
     "end_time": "2023-09-18T14:31:47.784235194Z",
     "start_time": "2023-09-18T14:31:47.127658310Z"
    }
   },
   "id": "315e687daf8482c5"
  },
  {
   "cell_type": "code",
   "execution_count": null,
   "outputs": [],
   "source": [],
   "metadata": {
    "collapsed": false
   },
   "id": "4d2f3fd22f06923c"
  }
 ],
 "metadata": {
  "kernelspec": {
   "display_name": "Python 3",
   "language": "python",
   "name": "python3"
  },
  "language_info": {
   "codemirror_mode": {
    "name": "ipython",
    "version": 2
   },
   "file_extension": ".py",
   "mimetype": "text/x-python",
   "name": "python",
   "nbconvert_exporter": "python",
   "pygments_lexer": "ipython2",
   "version": "2.7.6"
  }
 },
 "nbformat": 4,
 "nbformat_minor": 5
}
