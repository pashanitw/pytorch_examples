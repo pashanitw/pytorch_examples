{
 "cells": [
  {
   "cell_type": "code",
   "execution_count": 1,
   "id": "initial_id",
   "metadata": {
    "collapsed": true,
    "ExecuteTime": {
     "end_time": "2023-10-21T16:28:45.332434566Z",
     "start_time": "2023-10-21T16:28:44.502463490Z"
    }
   },
   "outputs": [],
   "source": [
    "import torch"
   ]
  },
  {
   "cell_type": "code",
   "execution_count": 3,
   "outputs": [],
   "source": [
    "def foo(x, y):\n",
    "    a = torch.sin(x)\n",
    "    b = torch.cos(y)\n",
    "    return a + b"
   ],
   "metadata": {
    "collapsed": false,
    "ExecuteTime": {
     "end_time": "2023-10-21T16:28:50.934324265Z",
     "start_time": "2023-10-21T16:28:50.871572634Z"
    }
   },
   "id": "b955ee7c87aed107"
  },
  {
   "cell_type": "code",
   "execution_count": 6,
   "outputs": [],
   "source": [
    "TORCH_LOGS=\"output_code\""
   ],
   "metadata": {
    "collapsed": false,
    "ExecuteTime": {
     "end_time": "2023-10-21T16:30:23.274267079Z",
     "start_time": "2023-10-21T16:30:23.226177282Z"
    }
   },
   "id": "f22ad725af038953"
  },
  {
   "cell_type": "code",
   "execution_count": 7,
   "outputs": [],
   "source": [
    "fun = torch.compile(foo)"
   ],
   "metadata": {
    "collapsed": false,
    "ExecuteTime": {
     "end_time": "2023-10-21T16:30:24.112014356Z",
     "start_time": "2023-10-21T16:30:24.108683864Z"
    }
   },
   "id": "1eef676783881b5a"
  },
  {
   "cell_type": "code",
   "execution_count": 8,
   "outputs": [
    {
     "data": {
      "text/plain": "True"
     },
     "execution_count": 8,
     "metadata": {},
     "output_type": "execute_result"
    }
   ],
   "source": [
    "torch.cuda.is_available()"
   ],
   "metadata": {
    "collapsed": false,
    "ExecuteTime": {
     "end_time": "2023-10-21T16:30:24.597014666Z",
     "start_time": "2023-10-21T16:30:24.593057490Z"
    }
   },
   "id": "aeaadddfb2f4dd85"
  },
  {
   "cell_type": "code",
   "execution_count": 10,
   "outputs": [
    {
     "name": "stdout",
     "output_type": "stream",
     "text": [
      "tensor([[ 3.9405e-01, -2.7816e-01,  6.5460e-01,  1.9136e+00,  1.1260e+00,\n",
      "          1.1907e+00,  1.0387e+00,  6.7897e-01,  5.3868e-01,  6.1485e-02],\n",
      "        [-7.0066e-01,  1.1511e+00,  9.8689e-01,  1.6656e+00,  1.5357e+00,\n",
      "          7.4831e-01,  5.0244e-01,  9.7823e-01,  8.6504e-01, -1.1680e+00],\n",
      "        [ 1.9611e+00,  7.6579e-01,  1.0716e-03, -1.7634e-01, -3.8509e-01,\n",
      "          3.9524e-01,  1.5205e+00, -1.0848e+00,  3.6593e-01,  1.8708e-01],\n",
      "        [ 3.8583e-01,  9.2706e-01,  1.1730e+00,  7.4232e-01,  9.8594e-01,\n",
      "         -3.3094e-01,  3.6186e-01,  8.7859e-01, -1.1520e+00, -8.3283e-01],\n",
      "        [ 4.1727e-01,  2.5993e-02,  1.0605e+00, -2.5975e-01,  7.7126e-01,\n",
      "          1.7706e+00,  7.2792e-01,  1.7790e+00, -4.5036e-01,  1.0802e+00],\n",
      "        [ 3.0801e-01,  1.2220e+00,  8.7680e-01,  1.1921e+00, -4.0569e-02,\n",
      "          9.0909e-01,  2.1940e-01,  1.0495e+00,  1.9080e-01, -1.1733e-02],\n",
      "        [ 7.8029e-01,  5.7761e-01, -7.7533e-01,  1.5216e+00,  3.6661e-01,\n",
      "          1.5670e-01, -1.6596e-01,  5.1539e-01,  1.1942e+00,  8.5691e-01],\n",
      "        [-8.0317e-02,  1.8532e-01,  8.7220e-01, -5.9321e-02,  4.8469e-01,\n",
      "          1.0267e+00,  7.3357e-01,  1.1617e+00,  1.4964e+00,  8.3692e-01],\n",
      "        [-7.6624e-01,  6.1272e-01,  1.6930e-01,  8.9408e-02,  1.4116e+00,\n",
      "         -7.8856e-01,  1.8342e-01,  4.6637e-01, -9.5791e-02,  1.5544e+00],\n",
      "        [ 7.7064e-01, -1.1440e-01,  1.3697e+00,  1.1779e-01,  1.3930e-01,\n",
      "          1.1204e+00,  1.3437e+00,  1.8452e+00,  8.0982e-01,  3.9024e-02]])\n"
     ]
    }
   ],
   "source": [
    "print(fun(torch.randn(10, 10), torch.randn(10, 10)))"
   ],
   "metadata": {
    "collapsed": false,
    "ExecuteTime": {
     "end_time": "2023-10-21T16:31:59.635522486Z",
     "start_time": "2023-10-21T16:31:55.463012035Z"
    }
   },
   "id": "c3d648c36339ac46"
  },
  {
   "cell_type": "code",
   "execution_count": 11,
   "outputs": [],
   "source": [
    "def timed(fn):\n",
    "    start = torch.cuda.Event(enable_timing=True)\n",
    "    end = torch.cuda.Event(enable_timing=True)\n",
    "    start.record()\n",
    "    result = fn()\n",
    "    end.record()\n",
    "    torch.cuda.synchronize()\n",
    "    return result, start.elapsed_time(end) / 1000"
   ],
   "metadata": {
    "collapsed": false,
    "ExecuteTime": {
     "end_time": "2023-10-21T16:33:05.454163992Z",
     "start_time": "2023-10-21T16:33:05.445394466Z"
    }
   },
   "id": "7c37d14ef2b56bda"
  },
  {
   "cell_type": "code",
   "execution_count": 12,
   "outputs": [],
   "source": [
    "# Generates random input and targets data for the model, where `b` is\n",
    "# batch size.\n",
    "def generate_data(b):\n",
    "    return (\n",
    "        torch.randn(b, 3, 128, 128).to(torch.float32).cuda(),\n",
    "        torch.randint(1000, (b,)).cuda(),\n",
    "    )\n",
    "\n",
    "N_ITERS = 10\n",
    "\n",
    "from torchvision.models import densenet121\n",
    "def init_model():\n",
    "    return densenet121().to(torch.float32).cuda()"
   ],
   "metadata": {
    "collapsed": false,
    "ExecuteTime": {
     "end_time": "2023-10-21T16:33:18.177668090Z",
     "start_time": "2023-10-21T16:33:18.078372221Z"
    }
   },
   "id": "8b6c227c15e7a252"
  },
  {
   "cell_type": "code",
   "execution_count": 14,
   "outputs": [
    {
     "name": "stdout",
     "output_type": "stream",
     "text": [
      "eager: 0.008099616050720215\n",
      "compile: 9.948044921875\n"
     ]
    }
   ],
   "source": [
    "model = init_model()\n",
    "\n",
    "# Reset since we are using a different mode.\n",
    "import torch._dynamo\n",
    "torch._dynamo.reset()\n",
    "\n",
    "model_opt = torch.compile(model, mode=\"reduce-overhead\")\n",
    "\n",
    "inp = generate_data(16)[0]\n",
    "with torch.no_grad():\n",
    "    print(\"eager:\", timed(lambda: model(inp))[1])\n",
    "    print(\"compile:\", timed(lambda: model_opt(inp))[1])"
   ],
   "metadata": {
    "collapsed": false,
    "ExecuteTime": {
     "end_time": "2023-10-21T16:34:04.206536032Z",
     "start_time": "2023-10-21T16:33:54.156367536Z"
    }
   },
   "id": "a1c8bf10c904af90"
  },
  {
   "cell_type": "code",
   "execution_count": 15,
   "outputs": [
    {
     "name": "stdout",
     "output_type": "stream",
     "text": [
      "eager eval time 0: 0.008600576400756836\n",
      "eager eval time 1: 0.00891478443145752\n",
      "eager eval time 2: 0.006881279945373535\n",
      "eager eval time 3: 0.006432672023773193\n",
      "eager eval time 4: 0.006688704013824463\n",
      "eager eval time 5: 0.006543360233306885\n",
      "eager eval time 6: 0.006344704151153564\n",
      "eager eval time 7: 0.006672383785247803\n",
      "eager eval time 8: 0.006772736072540283\n",
      "eager eval time 9: 0.007655424118041992\n",
      "~~~~~~~~~~\n",
      "compile eval time 0: 0.006307839870452881\n",
      "compile eval time 1: 0.005724287986755371\n",
      "compile eval time 2: 0.006801407814025879\n",
      "compile eval time 3: 0.005718016147613526\n",
      "compile eval time 4: 0.006551487922668457\n",
      "compile eval time 5: 0.005708799839019775\n",
      "compile eval time 6: 0.005701632022857666\n",
      "compile eval time 7: 0.00570684814453125\n",
      "compile eval time 8: 0.006833055973052979\n",
      "compile eval time 9: 0.006255680084228515\n",
      "~~~~~~~~~~\n",
      "(eval) eager median: 0.006730720043182373, compile median: 0.005989984035491943, speedup: 1.1236624343740167x\n",
      "~~~~~~~~~~\n"
     ]
    }
   ],
   "source": [
    "eager_times = []\n",
    "for i in range(N_ITERS):\n",
    "    inp = generate_data(16)[0]\n",
    "    with torch.no_grad():\n",
    "        _, eager_time = timed(lambda: model(inp))\n",
    "    eager_times.append(eager_time)\n",
    "    print(f\"eager eval time {i}: {eager_time}\")\n",
    "\n",
    "print(\"~\" * 10)\n",
    "\n",
    "compile_times = []\n",
    "for i in range(N_ITERS):\n",
    "    inp = generate_data(16)[0]\n",
    "    with torch.no_grad():\n",
    "        _, compile_time = timed(lambda: model_opt(inp))\n",
    "    compile_times.append(compile_time)\n",
    "    print(f\"compile eval time {i}: {compile_time}\")\n",
    "print(\"~\" * 10)\n",
    "\n",
    "import numpy as np\n",
    "eager_med = np.median(eager_times)\n",
    "compile_med = np.median(compile_times)\n",
    "speedup = eager_med / compile_med\n",
    "assert(speedup > 1)\n",
    "print(f\"(eval) eager median: {eager_med}, compile median: {compile_med}, speedup: {speedup}x\")\n",
    "print(\"~\" * 10)"
   ],
   "metadata": {
    "collapsed": false,
    "ExecuteTime": {
     "end_time": "2023-10-21T16:34:33.956199539Z",
     "start_time": "2023-10-21T16:34:33.763091462Z"
    }
   },
   "id": "718659e7fdae7eba"
  },
  {
   "cell_type": "code",
   "execution_count": 16,
   "outputs": [
    {
     "name": "stdout",
     "output_type": "stream",
     "text": [
      "eager train time 0: 0.31984945678710935\n",
      "eager train time 1: 0.030057344436645508\n",
      "eager train time 2: 0.02201190376281738\n",
      "eager train time 3: 0.02111692810058594\n",
      "eager train time 4: 0.021227487564086912\n",
      "eager train time 5: 0.01924073600769043\n",
      "eager train time 6: 0.02023094367980957\n",
      "eager train time 7: 0.019140607833862306\n",
      "eager train time 8: 0.019456928253173827\n",
      "eager train time 9: 0.02128166389465332\n",
      "~~~~~~~~~~\n",
      "compile train time 0: 32.9713671875\n",
      "compile train time 1: 0.028633983612060546\n",
      "compile train time 2: 0.02534604835510254\n",
      "compile train time 3: 0.023723007202148438\n",
      "compile train time 4: 0.019777536392211914\n",
      "compile train time 5: 0.017926143646240233\n",
      "compile train time 6: 0.01678950309753418\n",
      "compile train time 7: 0.018381792068481444\n",
      "compile train time 8: 0.017373376846313477\n",
      "compile train time 9: 0.02227609634399414\n",
      "~~~~~~~~~~\n",
      "(train) eager median: 0.021172207832336427, compile median: 0.021026816368103027, speedup: 1.0069145733566187x\n",
      "~~~~~~~~~~\n"
     ]
    }
   ],
   "source": [
    "model = init_model()\n",
    "opt = torch.optim.Adam(model.parameters())\n",
    "\n",
    "def train(mod, data):\n",
    "    opt.zero_grad(True)\n",
    "    pred = mod(data[0])\n",
    "    loss = torch.nn.CrossEntropyLoss()(pred, data[1])\n",
    "    loss.backward()\n",
    "    opt.step()\n",
    "\n",
    "eager_times = []\n",
    "for i in range(N_ITERS):\n",
    "    inp = generate_data(16)\n",
    "    _, eager_time = timed(lambda: train(model, inp))\n",
    "    eager_times.append(eager_time)\n",
    "    print(f\"eager train time {i}: {eager_time}\")\n",
    "print(\"~\" * 10)\n",
    "\n",
    "model = init_model()\n",
    "opt = torch.optim.Adam(model.parameters())\n",
    "train_opt = torch.compile(train, mode=\"reduce-overhead\")\n",
    "\n",
    "compile_times = []\n",
    "for i in range(N_ITERS):\n",
    "    inp = generate_data(16)\n",
    "    _, compile_time = timed(lambda: train_opt(model, inp))\n",
    "    compile_times.append(compile_time)\n",
    "    print(f\"compile train time {i}: {compile_time}\")\n",
    "print(\"~\" * 10)\n",
    "\n",
    "eager_med = np.median(eager_times)\n",
    "compile_med = np.median(compile_times)\n",
    "speedup = eager_med / compile_med\n",
    "assert(speedup > 1)\n",
    "print(f\"(train) eager median: {eager_med}, compile median: {compile_med}, speedup: {speedup}x\")\n",
    "print(\"~\" * 10)"
   ],
   "metadata": {
    "collapsed": false,
    "ExecuteTime": {
     "end_time": "2023-10-21T16:35:24.471515996Z",
     "start_time": "2023-10-21T16:34:50.593056295Z"
    }
   },
   "id": "f9a2acfe61dd0d12"
  },
  {
   "cell_type": "code",
   "execution_count": null,
   "outputs": [],
   "source": [],
   "metadata": {
    "collapsed": false
   },
   "id": "c2c4d3e38cf62868"
  }
 ],
 "metadata": {
  "kernelspec": {
   "display_name": "Python 3",
   "language": "python",
   "name": "python3"
  },
  "language_info": {
   "codemirror_mode": {
    "name": "ipython",
    "version": 2
   },
   "file_extension": ".py",
   "mimetype": "text/x-python",
   "name": "python",
   "nbconvert_exporter": "python",
   "pygments_lexer": "ipython2",
   "version": "2.7.6"
  }
 },
 "nbformat": 4,
 "nbformat_minor": 5
}
