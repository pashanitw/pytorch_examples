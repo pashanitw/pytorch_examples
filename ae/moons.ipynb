{
 "cells": [
  {
   "cell_type": "code",
   "execution_count": 1,
   "id": "initial_id",
   "metadata": {
    "collapsed": true,
    "ExecuteTime": {
     "end_time": "2023-08-01T04:35:42.463708642Z",
     "start_time": "2023-08-01T04:35:42.165640073Z"
    }
   },
   "outputs": [],
   "source": [
    "from sklearn.datasets import make_moons\n",
    "import pandas as pd\n",
    "\n",
    "# generate 2d classification dataset\n",
    "X, y = make_moons(n_samples=1000, noise=0.1)\n",
    "\n",
    "# create a DataFrame\n",
    "df = pd.DataFrame(data=X, columns=['Feature1', 'Feature2'])\n",
    "df['Target'] = y\n",
    "\n",
    "# save to CSV file\n",
    "df.to_csv('moons.csv', index=False)"
   ]
  },
  {
   "cell_type": "code",
   "execution_count": null,
   "outputs": [],
   "source": [],
   "metadata": {
    "collapsed": false
   },
   "id": "fcc7429ff8ab47e9"
  }
 ],
 "metadata": {
  "kernelspec": {
   "display_name": "Python 3",
   "language": "python",
   "name": "python3"
  },
  "language_info": {
   "codemirror_mode": {
    "name": "ipython",
    "version": 2
   },
   "file_extension": ".py",
   "mimetype": "text/x-python",
   "name": "python",
   "nbconvert_exporter": "python",
   "pygments_lexer": "ipython2",
   "version": "2.7.6"
  }
 },
 "nbformat": 4,
 "nbformat_minor": 5
}
